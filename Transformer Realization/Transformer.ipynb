{
 "cells": [
  {
   "cell_type": "code",
   "execution_count": 3,
   "id": "c2559f40",
   "metadata": {},
   "outputs": [],
   "source": [
    "import numpy as np\n",
    "import torch\n",
    "import torch.nn as nn\n",
    "import torch.nn.functional as F\n",
    "import math, copy, time\n",
    "from torch.autograd import Variable\n",
    "import matplotlib.pyplot as plt\n",
    "import seaborn\n",
    "seaborn.set_context(context=\"talk\")\n",
    "%matplotlib inline"
   ]
  },
  {
   "cell_type": "markdown",
   "id": "cfc53888",
   "metadata": {},
   "source": [
    "Model Architecture"
   ]
  },
  {
   "cell_type": "code",
   "execution_count": 4,
   "id": "2df24fc6",
   "metadata": {},
   "outputs": [],
   "source": [
    "class EncoderDecoder(nn.Module):\n",
    "    \n",
    "    def __init__(self, encoder, decoder, src_embed, tgt_embed, generator):\n",
    "        super(EncoderDecoder, self).__init__()\n",
    "        self.encoder = encoder\n",
    "        self.decoder = decoder\n",
    "        self.src_embed = src_embed\n",
    "        self.tgt_embed = tgt_embed\n",
    "        self.generator = generator\n",
    "        \n",
    "    def forward(self, src, tgt, src_mask, tgt_mask):\n",
    "        \"Take in and process masked src and target sequences.\"\n",
    "        return self.decode(self.encode(src, src_mask), src_mask, tgt, tgt_mask)\n",
    "    \n",
    "    def encode(self, src, src_mask):\n",
    "        return self.encoder(self.src_embed(src), src_mask)\n",
    "    \n",
    "    def decode(self, memory, src_mask, tgt, tgt_mask):\n",
    "        return self.decoder(self.tgt_embed(tgt), memory, src_mask, tgt_mask)"
   ]
  },
  {
   "cell_type": "code",
   "execution_count": 5,
   "id": "5c00cc44",
   "metadata": {},
   "outputs": [],
   "source": [
    "class Generator(nn.Module):\n",
    "    \"Define standard linear + softmax generation step.\"\n",
    "    def __init__(self, d_model, vocab):\n",
    "        super(Generator, self).__init__()\n",
    "        # 线性变化层\n",
    "        self.proj = nn.Linear(d_model, vocab)\n",
    "        \n",
    "    def forward(self, x):\n",
    "        # log-sofrmax输出\n",
    "        return F.log_softmax(self.proj(x), dim=-1)"
   ]
  },
  {
   "cell_type": "markdown",
   "id": "2276f98b",
   "metadata": {},
   "source": [
    "Encoder"
   ]
  },
  {
   "cell_type": "code",
   "execution_count": 6,
   "id": "68bb970a",
   "metadata": {},
   "outputs": [],
   "source": [
    "def clones(module, N):\n",
    "    \"Produce N identical layers.\"\n",
    "    return nn.ModuleList([copy.deepcopy(module) for _ in range(N)])"
   ]
  },
  {
   "cell_type": "code",
   "execution_count": 7,
   "id": "8bb32cff",
   "metadata": {},
   "outputs": [],
   "source": [
    "class Encoder(nn.Module):\n",
    "    \"Core encoder is a stack of N layers\"\n",
    "    \n",
    "    def __init__(self, layer, N):\n",
    "        super(Encoder, self).__init__()\n",
    "        self.layers = clones(layer, N)\n",
    "        self.norm = LayerNorm(layer.size)\n",
    "        \n",
    "    def forward(self, x, mask):\n",
    "        \"Pass the input (and mask) through each layer in turn.\"\n",
    "        for layer in self.layers:\n",
    "            x = layer(x, mask)\n",
    "        return self.norm(x)"
   ]
  },
  {
   "cell_type": "markdown",
   "id": "6d29d170",
   "metadata": {},
   "source": [
    "在两个子层中的每一个周围使用残差连接,随后是归一化层"
   ]
  },
  {
   "cell_type": "code",
   "execution_count": 8,
   "id": "91140c48",
   "metadata": {},
   "outputs": [],
   "source": [
    "class LayerNorm(nn.Module):\n",
    "    \n",
    "    def __init__(self, features, eps=1e-6):\n",
    "        super(LayerNorm, self).__init__()\n",
    "        self.a_2 = nn.Parameter(torch.ones(features))\n",
    "        self.b_2 = nn.Parameter(torch.zeros(features))\n",
    "        self.eps = eps\n",
    "        \n",
    "    def forward(self, x):\n",
    "        meax = x.mean(-1, keepdim=True)\n",
    "        std = x.std(-1, keepdim=True)\n",
    "        return self.a_2 * (x - meax) / (std + self.eps) + self.b_2"
   ]
  },
  {
   "cell_type": "code",
   "execution_count": 9,
   "id": "44824d12",
   "metadata": {},
   "outputs": [],
   "source": [
    "class SublayerConnection(nn.Module):\n",
    "    \"\"\"\n",
    "    在两个子层中的每一个周围使用残差连接,随后是归一化层\n",
    "    \"\"\"\n",
    "    \n",
    "    def __init__(self, size, dropout):\n",
    "        super(SublayerConnection, self).__init__()\n",
    "        self.norm = LayerNorm(size)\n",
    "        self.dropout = nn.Dropout(dropout)\n",
    "        \n",
    "    def forward(self, x, sublayer):\n",
    "        \"将残差连接应用于任何具有相同大小的子层。\"\n",
    "        return x + self.dropout(sublayer(self.norm(x)))"
   ]
  },
  {
   "cell_type": "code",
   "execution_count": 10,
   "id": "3a1c622c",
   "metadata": {},
   "outputs": [],
   "source": [
    "class EncoderLayer(nn.Module):\n",
    "    \"Encoder is made up of self-attn and feed forward (defined below)\"\n",
    "    \n",
    "    def __init__(self, size, self_attn, feed_forward, dropout):\n",
    "        super(EncoderLayer, self).__init__()\n",
    "        self.self_attn = self_attn\n",
    "        self.feed_forward = feed_forward\n",
    "        self.sublayer = clones(SublayerConnection(size, dropout), 2)\n",
    "        self.size = size\n",
    "        \n",
    "    def forward(self, x, mask):\n",
    "        x = self.sublayer[0](x, lambda x: self.self_attn(x, x, x, mask))\n",
    "        # 第一子层操作\n",
    "        # 等价于：\n",
    "        # 1. 计算自注意力：self.self_attn(x, x, x, mask)\n",
    "            # 这里：query = x, key = x, value = x\n",
    "            # 因为是自注意力，所以Q、K、V都来自同一个输入\n",
    "        # 2. 执行残差连接：x + dropout(attention_output)\n",
    "        # 3. 层归一化：LayerNorm(x + dropout(attention_output))\n",
    "        \n",
    "        return self.sublayer[1](x, self.feed_forward)\n",
    "        # 第二子层操作\n",
    "        # 等价于：\n",
    "        # 1. 计算前馈网络：self.feed_forward(x)\n",
    "        # 2. 执行残差连接：x + dropout(ffn_output)  \n",
    "        # 3. 层归一化：LayerNorm(x + dropout(ffn_output))"
   ]
  },
  {
   "cell_type": "markdown",
   "id": "15dc8af6",
   "metadata": {},
   "source": [
    "Decoder"
   ]
  },
  {
   "cell_type": "code",
   "execution_count": 11,
   "id": "8e6eadf8",
   "metadata": {},
   "outputs": [],
   "source": [
    "class Decoder(nn.Module):\n",
    "    \"Generic N layer decoder with masking.\"\n",
    "    \n",
    "    def __init__(self, layer, N):\n",
    "        super(Decoder, self).__init__()\n",
    "        self.layers = clones(layer, N)\n",
    "        self.norm = LayerNorm(layer.size)\n",
    "        \n",
    "    def forward(self, x, memory, src_mask, tgt_mask):\n",
    "        for layer in self.layers:\n",
    "            x = layer(x, memory, src_mask, tgt_mask)\n",
    "        return self.norm(x)"
   ]
  },
  {
   "cell_type": "code",
   "execution_count": 12,
   "id": "e4ea50c0",
   "metadata": {},
   "outputs": [],
   "source": [
    "class DecoderLayer(nn.Module):\n",
    "    \"Decoder is made of self-attn, src-attn, and feed forward (defined below)\"\n",
    "    \n",
    "    def __init__(self, size, self_attn, src_attn, feed_forward, dropout):\n",
    "        super(DecoderLayer, self).__init__()\n",
    "        self.size = size\n",
    "        self.self_attn = self_attn\n",
    "        self.src_attn = src_attn\n",
    "        self.feed_forward = feed_forward\n",
    "        self.sublayer = clones(SublayerConnection(size, dropout), 3)\n",
    "        \n",
    "    def forward(self, x, memory, src_mask, tgt_mask):\n",
    "        m = memory\n",
    "        x = self.sublayer[0](x, lambda x: self.self_attn(x, x, x, tgt_mask))\n",
    "        # 第一子层：掩码自注意力\n",
    "        x = self.sublayer[1](x, lambda x: self.src_attn(x, m, m, src_mask))\n",
    "        # 第二子层：编码器-解码器注意力\n",
    "        return self.sublayer[2](x, self.feed_forward)\n",
    "        # 第三子层：前馈网络"
   ]
  },
  {
   "cell_type": "code",
   "execution_count": 13,
   "id": "a98dca34",
   "metadata": {},
   "outputs": [],
   "source": [
    "def subsequent_mask(size):\n",
    "    \n",
    "    attn_shape = (1, size, size)\n",
    "    subsequent_mask = np.triu(np.ones(attn_shape), k=1).astype('uint8')\n",
    "    return torch.from_numpy(subsequent_mask) == 0"
   ]
  },
  {
   "cell_type": "markdown",
   "id": "0735367e",
   "metadata": {},
   "source": [
    "Attention"
   ]
  },
  {
   "cell_type": "code",
   "execution_count": 14,
   "id": "7ee157f1",
   "metadata": {},
   "outputs": [],
   "source": [
    "def attention(query, key, value, mask=None, dropout=None):\n",
    "    \"计算 缩放点积注意力\"\n",
    "    d_k = query.size(-1)\n",
    "    scores = torch.matmul(query, key.transpose(-2, -1)) / math.sqrt(d_k)\n",
    "    if mask is not None:\n",
    "        scores = scores.masked_fill(mask == 0, -1e9)\n",
    "    p_attn = F.softmax(scores, dim = -1)\n",
    "    if dropout is not None:\n",
    "        p_attn = dropout(p_attn)\n",
    "    return torch.matmul(p_attn, value), p_attn\n",
    "    "
   ]
  },
  {
   "cell_type": "code",
   "execution_count": 15,
   "id": "0532682e",
   "metadata": {},
   "outputs": [],
   "source": [
    "class MultiHeadedAttention(nn.Module):\n",
    "    def __init__(self, h, d_model, dropout=0.1):\n",
    "        \"Take in model size and number of heads.\"\n",
    "        super(MultiHeadedAttention, self).__init__()\n",
    "        assert d_model % h == 0\n",
    "        # 假设d_v = d_k\n",
    "        self.d_k = d_model // h\n",
    "        self.h = h\n",
    "        self.linears = clones(nn.Linear(d_model, d_model), 4)\n",
    "        self.attn = None\n",
    "        self.dropout = nn.Dropout(p=dropout)\n",
    "        \n",
    "    def forward(self, query, key, value, mask=None):\n",
    "        \"Implements Figure 2\"\n",
    "        if mask is not None:\n",
    "            # Same mask applied to all h heads.\n",
    "\n",
    "            # mask维度扩展 增加head维度\n",
    "            # mask维度：[batch_size, seq_len]\n",
    "            # 注意力维度：[batch_size, h, seq_len, seq_len]\n",
    "            # 两个维度不匹配 给mask在第一个维度(索引从0开始)插入大小为1的维度\n",
    "            mask = mask.unsqueeze(1)\n",
    "        nbatches = query.size(0)\n",
    "\n",
    "        # 1) Do all the linear projections in batch from d_model => h x d_k\n",
    "        query, key, value = [l(x).view(nbatches, -1, self.h, self.d_k).transpose(1, 2) \n",
    "                             for l, x in zip(self.linears, (query, key, value))]\n",
    "        \n",
    "        x, self.attn = attention(query, key, value, mask=mask, dropout=self.dropout)\n",
    "        # 2) Apply attention on all the projected vectors in batch.\n",
    "        \n",
    "        x = x.transpose(1, 2).contiguous().view(nbatches, -1, self.h * self.d_k)\n",
    "        # 3) \"Concat\" using a view and apply a final linear.\n",
    "        return self.linears[-1](x)"
   ]
  },
  {
   "cell_type": "markdown",
   "id": "17b95fe3",
   "metadata": {},
   "source": [
    "Position-wise Feed-Forward Networks"
   ]
  },
  {
   "cell_type": "code",
   "execution_count": 16,
   "id": "63de2428",
   "metadata": {},
   "outputs": [],
   "source": [
    "class PositionwiseFeedForward(nn.Module):\n",
    "    \"Implements FFN equation 位置级前馈神经网络.\"\n",
    "    def __init__(self, d_model, d_ff, dropout=0.1):\n",
    "        super(PositionwiseFeedForward, self).__init__()\n",
    "        self.w_1 = nn.Linear(d_model, d_ff) # 扩张层: 512 -> 2048\n",
    "        self.w_2 = nn.Linear(d_ff, d_model) # 压缩层: 2048 -> 512\n",
    "        self.dropout = nn.Dropout(dropout)\n",
    "        self.activation = nn.ReLU() # 非线性激活函数\n",
    "\n",
    "    def forward(self, x):\n",
    "        # x shape: [batch_size, seq_len, d_model]\n",
    "        # 对序列中的每一个位置独立进行相同的操作\n",
    "        return self.w_2(self.dropout(self.activation(self.w_1(x))))\n",
    "        # 1. self.w_1(x): [batch, seq, d_model] -> [batch, seq, d_ff]\n",
    "        # 2. activation(...): 非线性变换 [batch, seq, d_ff]\n",
    "        # 3. dropout(...): 随机失活，防止过拟合 [batch, seq, d_ff]\n",
    "        # 4. self.w_2(...): [batch, seq, d_ff] -> [batch, seq, d_model]"
   ]
  },
  {
   "cell_type": "markdown",
   "id": "4e27817d",
   "metadata": {},
   "source": [
    "Embeddings and Softmax"
   ]
  },
  {
   "cell_type": "code",
   "execution_count": 17,
   "id": "9386e632",
   "metadata": {},
   "outputs": [],
   "source": [
    "class Embeddings(nn.Module):\n",
    "    def __init__(self, d_model, vocab):\n",
    "        super(Embeddings, self).__init__()\n",
    "        self.lut = nn.Embedding(vocab, d_model)\n",
    "        self.d_model = d_model\n",
    "        \n",
    "    def forward(self, x):\n",
    "        return self.lut(x) *  math.sqrt(self.d_model)"
   ]
  },
  {
   "cell_type": "markdown",
   "id": "c7c5037c",
   "metadata": {},
   "source": [
    "Positional Encoding"
   ]
  },
  {
   "cell_type": "code",
   "execution_count": 18,
   "id": "22c44297",
   "metadata": {},
   "outputs": [],
   "source": [
    "class PositionalEncoding(nn.Module):\n",
    "    def __init__(self, d_model, dropout, max_len=5000):\n",
    "        super(PositionalEncoding, self).__init__()\n",
    "        self.dropout = nn.Dropout(p=dropout)\n",
    "        \n",
    "        pe = torch.zeros(max_len, d_model)\n",
    "        position = torch.arange(0, max_len).unsqueeze(1)\n",
    "        div_term = torch.exp(torch.arange(0, d_model, 2) *- (math.log(10000.0) / d_model))\n",
    "        pe[:, 0::2] = torch.sin(position * div_term)\n",
    "        pe[:, 1::2] = torch.cos(position * div_term)\n",
    "        pe = pe.unsqueeze(0)\n",
    "        self.register_buffer('pe', pe)\n",
    "        \n",
    "    def forward(self, x):\n",
    "        x = x + Variable(self.pe[:, :x.size(1)], requires_grad=False)\n",
    "        return self.dropout(x)"
   ]
  },
  {
   "cell_type": "markdown",
   "id": "72679d9d",
   "metadata": {},
   "source": [
    "Full Model"
   ]
  },
  {
   "cell_type": "code",
   "execution_count": 19,
   "id": "bc7cfe38",
   "metadata": {},
   "outputs": [],
   "source": [
    "def make_model(src_vocab:int, tgt_vocab:int, N:int=6, d_model:int=512, d_ff:int=2048, h:int=8, dropout:float=0.1):\n",
    "    c = copy.deepcopy\n",
    "    attn = MultiHeadedAttention(h, d_model)\n",
    "    ff = PositionwiseFeedForward(d_model, d_ff, dropout)\n",
    "    position = PositionalEncoding(d_model, dropout)\n",
    "    model = EncoderDecoder(\n",
    "        Encoder(EncoderLayer(d_model, c(attn), c(ff), dropout), N),\n",
    "        Decoder(DecoderLayer(d_model, c(attn), c(attn), c(ff), dropout), N),\n",
    "        nn.Sequential(Embeddings(d_model, src_vocab), c(position)),\n",
    "        nn.Sequential(Embeddings(d_model, tgt_vocab), c(position)),\n",
    "        Generator(d_model, tgt_vocab)\n",
    "    )\n",
    "    \n",
    "    for p in model.parameters():\n",
    "        if p.dim() > 1:\n",
    "            nn.init.xavier_uniform(p)\n",
    "    return model"
   ]
  },
  {
   "cell_type": "markdown",
   "id": "ef211fc1",
   "metadata": {},
   "source": [
    "# Training\n",
    "\n",
    "Batches and Masking"
   ]
  },
  {
   "cell_type": "code",
   "execution_count": 20,
   "id": "33883395",
   "metadata": {},
   "outputs": [],
   "source": [
    "class Batch:\n",
    "    \"Object for holding a batch of data with mask during training.\"\n",
    "    def __init__(self, src, trg=None, pad=0):\n",
    "        self.src = src\n",
    "        self.src_mask = (src != pad).unsqueeze(-2)\n",
    "        if trg is not None:\n",
    "            \n",
    "            # Transformer是自回归的，输入前n-1个token，预测后n-1个token\n",
    "            # 解码器的输入（去掉最后一个token）\n",
    "            self.trg = trg[:, :-1]\n",
    "\n",
    "            # 解码器目标（去掉第一个token）\n",
    "            self.trg_y = trg[:, 1:]\n",
    "            \n",
    "            \n",
    "            self.trg_mask = self.make_std_mask(self.trg, pad)\n",
    "            self.ntokens = (self.trg_y != pad).data.sum()\n",
    "            \n",
    "    @staticmethod\n",
    "    def make_std_mask(tgt, pad):\n",
    "        \"Create a mask to hide padding and future words.\"\n",
    "        \n",
    "        # 将矩阵是pad填充的值置为False\n",
    "        tgt_mask = (tgt != pad).unsqueeze(-2)\n",
    "        \n",
    "        # 只有值不为pad且在预测位置i之前的值的才能被Encoder看到\n",
    "        tgt_mask = tgt_mask & Variable(subsequent_mask(tgt.size(-1)).type_as(tgt_mask.data))\n",
    "        return tgt_mask"
   ]
  },
  {
   "cell_type": "markdown",
   "id": "be9721ec",
   "metadata": {},
   "source": [
    "Training Loop"
   ]
  },
  {
   "cell_type": "code",
   "execution_count": 21,
   "id": "c8014d28",
   "metadata": {},
   "outputs": [],
   "source": [
    "def run_epoch(data_iter, model, loss_compute):\n",
    "    \"Standard Training and Logging Function\"\n",
    "    start = time.time()\n",
    "    total_tokens = 0\n",
    "    total_loss = 0\n",
    "    tokens = 0\n",
    "    for i, batch in enumerate(data_iter):\n",
    "        out = model.forward(batch.src, batch.trg, batch.src_mask, batch.trg_mask)\n",
    "        loss = loss_compute(out, batch.trg_y, batch.ntokens)\n",
    "        total_loss += loss\n",
    "        total_tokens += batch.ntokens\n",
    "        tokens += batch.ntokens\n",
    "        if i % 50 == i:\n",
    "            elapsed = time.time() - start\n",
    "            print(f\"Epoch Step: {i} Loss: {loss / batch.ntokens} Tokens per Sec: {tokens/elapsed}\")\n",
    "            start = time.time()\n",
    "            tokens = 0\n",
    "    \n",
    "    return total_loss / total_tokens"
   ]
  },
  {
   "cell_type": "markdown",
   "id": "55dc615d",
   "metadata": {},
   "source": [
    "Training Data and Batching"
   ]
  },
  {
   "cell_type": "code",
   "execution_count": 22,
   "id": "4ac1d79a",
   "metadata": {},
   "outputs": [],
   "source": [
    "global max_src_in_batch, max_tgt_in_batch\n",
    "\n",
    "# 动态批次大小控制函数\n",
    "def batch_size_fn(new, count, sofar):\n",
    "    global max_src_in_batch, max_tgt_in_batch\n",
    "    if count == 1:\n",
    "        max_src_in_batch = 0\n",
    "        max_tgt_in_batch = 0\n",
    "    max_src_in_batch = max(max_src_in_batch, len(new.src))\n",
    "    max_tgt_in_batch = max(max_tgt_in_batch, len(new.trg) + 2)\n",
    "    src_elements = count * max_src_in_batch\n",
    "    tgt_elements = count * max_tgt_in_batch\n",
    "    return max(src_elements, tgt_elements)    \n",
    "    "
   ]
  },
  {
   "cell_type": "markdown",
   "id": "64f7eeef",
   "metadata": {},
   "source": [
    "Optimizer\n",
    "\n",
    "Noam调度器\n",
    "\n",
    "1. 训练初期缓慢增加：给模型一个热身期，让参数稳定地进入一个好的优化区域\n",
    "2. 训练后期缓慢衰减：在训练后期逐渐降低学习率，帮助模型收敛。\n"
   ]
  },
  {
   "cell_type": "code",
   "execution_count": 23,
   "id": "bb465c77",
   "metadata": {},
   "outputs": [],
   "source": [
    "# Noam调度器 Transformer学习率调度器 带热启动的平方根倒数调度器\n",
    "class NoamOpt:\n",
    "    def __init__(self, model_size, factor, warmup, optimizer):\n",
    "        # 底层优化器，为Adam\n",
    "        self.optimizer = optimizer      \n",
    "        self._step = 0\n",
    "        \n",
    "        # 热启动步数，关键的超参数（通常为4000或8000\n",
    "        self.warmup = warmup\n",
    "        \n",
    "        # 缩放因子 控制学习率大小\n",
    "        self.factor = factor\n",
    "        self.model_size = model_size\n",
    "        self._rate = 0\n",
    "        \n",
    "    def step(self):\n",
    "        self._step += 1\n",
    "        rate = self.rate()\n",
    "        # 计算当前step的学习率\n",
    "        for p in self.optimizer.param_groups:\n",
    "            p['lr'] = rate\n",
    "            # 更新优化器的学习率\n",
    "        self._rate = rate\n",
    "        self.optimizer.step()\n",
    "    \n",
    "    # 学习率计算\n",
    "    def rate(self, step = None):\n",
    "        if step is None:\n",
    "            step = self._step\n",
    "        return self.factor * (self.model_size ** (-0.5) * min(step ** (-0.5), step * self.warmup ** (-1.5)))\n",
    "        # 基础缩放 self.model_size ** (-0.5)，与模型维度的平方根成反比，补偿更大模型维带来的梯度幅度变化\n",
    "        # min函数控制两个阶段\n",
    "            # 阶段1：热启动期（学习率递增）\n",
    "            # 当 step 较小时，step * warmup^(-1.5) 的值小于 step^(-0.5)。\n",
    "            # 此时学习率公式简化为：factor × d_model^(-0.5) × step × warmup^(-1.5)\n",
    "            # 学习率与 step 成正比线性增长。\n",
    "            # 阶段2：衰减期（学习率递减）\n",
    "            # 当 step 超过 warmup 后，step^(-0.5) 的值小于 step × warmup^(-1.5)。\n",
    "            # 此时学习率公式简化为：factor × d_model^(-0.5) × step^(-0.5)\n",
    "            # 学习率与 step 的平方根成反比衰减。\n",
    "        \n",
    "\n",
    "def get_std_opt(model):\n",
    "    return NoamOpt(model.src_embed[0].d_model, 2, 4000, \n",
    "                   torch.optim.Adam(model.parameters(), lr=0, betas=(0.9, 0.98), eps=1e-9))"
   ]
  },
  {
   "cell_type": "code",
   "execution_count": 24,
   "id": "f8dfaa96",
   "metadata": {},
   "outputs": [
    {
     "data": {
      "text/plain": [
       "<matplotlib.legend.Legend at 0x7fb7abeea510>"
      ]
     },
     "execution_count": 24,
     "metadata": {},
     "output_type": "execute_result"
    },
    {
     "data": {
      "image/png": "[encoded data removed]",
      "text/plain": [
       "<Figure size 640x480 with 1 Axes>"
      ]
     },
     "metadata": {},
     "output_type": "display_data"
    }
   ],
   "source": [
    "# Three settings of the lrate hyperparameters.\n",
    "opts = [NoamOpt(512, 1, 4000, None), \n",
    "        NoamOpt(512, 1, 8000, None),\n",
    "        NoamOpt(256, 1, 4000, None)]\n",
    "plt.plot(np.arange(1, 20000), [[opt.rate(i) for opt in opts] for i in range(1, 20000)])\n",
    "plt.legend([\"512:4000\", \"512:8000\", \"256:4000\"])"
   ]
  },
  {
   "cell_type": "markdown",
   "id": "362fbd98",
   "metadata": {},
   "source": [
    "# Regularization\n",
    "\n",
    "Label Smoothing"
   ]
  },
  {
   "cell_type": "markdown",
   "id": "c1a23e92",
   "metadata": {},
   "source": [
    "问题：传统的交叉熵损失使用\"硬标签\"（一个类为1，其他为0），这会导致：\n",
    "\n",
    "1. 过拟合：模型过度自信，对训练数据拟合太好。\n",
    "2. 校准差：预测概率不能反映真实的不确定性。\n",
    "3. 泛化弱：对噪声标签敏感。\n",
    "\n",
    "解决方案：标签平滑将\"硬标签\"变为\"软标签\"，让正确的类别概率接近1但不等于1，错误的类别也有小概率。"
   ]
  },
  {
   "cell_type": "code",
   "execution_count": 25,
   "id": "ded16caa",
   "metadata": {},
   "outputs": [],
   "source": [
    "class LabelSmoothing(nn.Module):\n",
    "    \"Implement label smoothing.\"\n",
    "\n",
    "    def __init__(self, size:int, padding_idx:int, smoothing:float=0.0):\n",
    "        super(LabelSmoothing, self).__init__()\n",
    "        self.criterion = nn.KLDivLoss(size_average=False) # KL散度损失 因为我们要比较两个概率分布\n",
    "        self.padding_idx = padding_idx # 填充pad的索引\n",
    "        self.confidence = 1.0 - smoothing # 正确标签的概率\n",
    "        self.smoothing = smoothing # 平滑值 如0.1 意味着正确类别概率为0.9，其他类别共享0.1的概率。\n",
    "        self.size = size  # 词汇表大小\n",
    "        self.true_dist = None # 存储生成的目标分布（用于调试\n",
    "        \n",
    "    def forward(self, x, target):\n",
    "        assert x.size(1) == self.size\n",
    "        # 确保模型输出维度与词汇表大小一致\n",
    "        true_dist = x.data.clone()\n",
    "        # 创建与模型输出 x 相同形状的张量\n",
    "        true_dist.fill_(self.smoothing / (self.size - 2))\n",
    "        # 用均匀小概率填充所有位置 分母-2要排除正确类别和填充符\n",
    "        \n",
    "        true_dist.scatter_(1, target.data.unsqueeze(1), self.confidence)\n",
    "        true_dist[:, self.padding_idx] = 0\n",
    "        mask = torch.nonzero(target.data == self.padding_idx)\n",
    "        if mask.dim() > 0:\n",
    "            true_dist.index_fill_(0, mask.squeeze(), 0.0)\n",
    "        self.true_dist = true_dist\n",
    "        return self.criterion(x, Variable(true_dist, requires_grad=False))"
   ]
  },
  {
   "cell_type": "markdown",
   "id": "e99a888b",
   "metadata": {},
   "source": [
    "# A First Example\n",
    "\n",
    "Synthetic Data"
   ]
  },
  {
   "cell_type": "code",
   "execution_count": 26,
   "id": "be1a7e7f",
   "metadata": {},
   "outputs": [],
   "source": [
    "def data_gen(V: int, batch: int, nbatches: int):\n",
    "    # V 词汇表大小\n",
    "    # batch 每个batch的样本数量\n",
    "    # nbatches batch数\n",
    "    for i in range(nbatches):\n",
    "        data = torch.from_numpy(np.random.randint(1, V, size=(batch, 10)))\n",
    "        # np.random.randint(1, V, size=(batch, 10)) 生成一个形状为 (batch, 10) 的二维数组,数值范围从1到V-1\n",
    "        data[:, 0] = 1\n",
    "        # 将每个序列的第一个元素设置为1，作为序列的起始标记<sos>\n",
    "        src = Variable(data, requires_grad=False)\n",
    "        tgt = Variable(data, requires_grad=False)\n",
    "        # 因为是输入计算，不需要梯度计算\n",
    "        yield Batch(src, tgt, 0)"
   ]
  },
  {
   "cell_type": "markdown",
   "id": "68c9a25a",
   "metadata": {},
   "source": [
    "Loss Computation"
   ]
  },
  {
   "cell_type": "code",
   "execution_count": 29,
   "id": "21ac31f7",
   "metadata": {},
   "outputs": [],
   "source": [
    "class SimpleLossCompute:\n",
    "    \n",
    "    def __init__(self, generator, criterion, opt=None):\n",
    "        self.generator = generator\n",
    "        self.criterion = criterion\n",
    "        self.opt = opt\n",
    "        \n",
    "    def __call__(self, x, y, norm):\n",
    "        x = self.generator(x)\n",
    "        loss = self.criterion(x.contiguous().view(-1, x.size(-1)), y.contiguous().view(-1)) / norm\n",
    "        # 计算损失时，将输出和目标张量展平为二维张量\n",
    "        loss.backward()\n",
    "        if self.opt is not None:\n",
    "            self.opt.step()\n",
    "            self.opt.optimizer.zero_grad()\n",
    "        return loss.item() * norm"
   ]
  },
  {
   "cell_type": "markdown",
   "id": "676527b5",
   "metadata": {},
   "source": [
    "Greedy Decoding"
   ]
  },
  {
   "cell_type": "code",
   "execution_count": null,
   "id": "610cefa9",
   "metadata": {},
   "outputs": [],
   "source": [
    "V = 11\n",
    "criterion = LabelSmoothing(size=V, padding_idx=0, smoothing=0.0)\n",
    "model = make_model(V, V, N=2)\n",
    "model_opt = NoamOpt(model.src_embed[0].d_model, 1, 400,\n",
    "                    torch.optim.Adam(model.parameters(), lr=0, betas=(0.9, 0.98), eps=1e-9))\n",
    "\n",
    "for epoch in range(10):\n",
    "    model.train()\n",
    "    run_epoch(data_gen(V, 30, 20), model,\n",
    "              SimpleLossCompute(model.generator, criterion, model_opt))\n",
    "    model.eval()\n",
    "    print(run_epoch(data_gen(V, 30, 5), model, \n",
    "                   SimpleLossCompute(model.generator, criterion, None)))\n"
   ]
  },
  {
   "cell_type": "code",
   "execution_count": null,
   "id": "dd640771",
   "metadata": {},
   "outputs": [
    {
     "name": "stdout",
     "output_type": "stream",
     "text": [
      "tensor([[ 1,  2,  3,  4,  5,  6,  7,  8, 10,  9]])\n"
     ]
    }
   ],
   "source": [
    "def greedy_decode(model, src, src_mask, max_len, start_symbol):\n",
    "    memory = model.encode(src, src_mask)\n",
    "    ys = torch.ones(1, 1).fill_(start_symbol).type_as(src.data)\n",
    "    for i in range(max_len-1):\n",
    "        out = model.decode(memory, src_mask, \n",
    "                           Variable(ys), \n",
    "                           Variable(subsequent_mask(ys.size(1))\n",
    "                                    .type_as(src.data)))\n",
    "        prob = model.generator(out[:, -1])\n",
    "        _, next_word = torch.max(prob, dim = 1)\n",
    "        next_word = next_word.data[0]\n",
    "        ys = torch.cat([ys, torch.ones(1, 1).type_as(src.data).fill_(next_word)], dim=1)\n",
    "    return ys\n",
    "\n",
    "model.eval()\n",
    "src = Variable(torch.LongTensor([[1,2,3,4,5,6,7,8,9,10]]) )\n",
    "src_mask = Variable(torch.ones(1, 1, 10) )\n",
    "print(greedy_decode(model, src, src_mask, max_len=10, start_symbol=1))"
   ]
  }
 ],
 "metadata": {
  "kernelspec": {
   "display_name": "ai",
   "language": "python",
   "name": "python3"
  },
  "language_info": {
   "codemirror_mode": {
    "name": "ipython",
    "version": 3
   },
   "file_extension": ".py",
   "mimetype": "text/x-python",
   "name": "python",
   "nbconvert_exporter": "python",
   "pygments_lexer": "ipython3",
   "version": "3.13.5"
  }
 },
 "nbformat": 4,
 "nbformat_minor": 5
}
