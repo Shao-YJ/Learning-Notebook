{
 "cells": [
  {
   "cell_type": "markdown",
   "id": "0b70bf71",
   "metadata": {},
   "source": [
    "# Dataset实战"
   ]
  },
  {
   "cell_type": "code",
   "execution_count": 2,
   "id": "772775ae",
   "metadata": {},
   "outputs": [],
   "source": [
    "from torch.utils.data import Dataset\n",
    "import os\n",
    "\n",
    "import cv2"
   ]
  },
  {
   "cell_type": "code",
   "execution_count": 10,
   "id": "bb2fca04",
   "metadata": {},
   "outputs": [],
   "source": [
    "class MyData(Dataset):\n",
    "    def __init__(self,root_path, label):\n",
    "        self.root_path = root_path\n",
    "        self.label = label\n",
    "        self.path = os.path.join(self.root_path, self.label)\n",
    "        self.img_path = os.listdir(self.path)\n",
    "        \n",
    "\n",
    "    def __getitem__(self, index):\n",
    "        img_name = self.img_path[index]\n",
    "        img_path = os.path.join(self.root_path, self.label, img_name)\n",
    "        img = cv2.imread(img_path)\n",
    "        img = cv2.cvtColor(img, cv2.COLOR_BGR2RGB)\n",
    "        label = self.label\n",
    "        return img, label\n",
    "    \n",
    "    def __len__(self):\n",
    "        return len(self.img_path)"
   ]
  },
  {
   "cell_type": "code",
   "execution_count": 11,
   "id": "8430be7e",
   "metadata": {},
   "outputs": [
    {
     "name": "stdout",
     "output_type": "stream",
     "text": [
      "124\n",
      "121\n",
      "245\n"
     ]
    }
   ],
   "source": [
    "root_path = \"./Data/train\"\n",
    "# label = \"ants\"\n",
    "ants_data = MyData(root_path, \"ants\")\n",
    "bees_data = MyData(root_path, \"bees\")\n",
    "# print(img.shape, label)\n",
    "data = ants_data + bees_data\n",
    "print(len(ants_data))\n",
    "print(len(bees_data))\n",
    "print(len(data))"
   ]
  },
  {
   "cell_type": "markdown",
   "id": "cd547789",
   "metadata": {},
   "source": [
    "# Tensorboard实战"
   ]
  },
  {
   "cell_type": "code",
   "execution_count": 1,
   "id": "8d73cc21",
   "metadata": {},
   "outputs": [],
   "source": [
    "from torch.utils.tensorboard import SummaryWriter"
   ]
  },
  {
   "cell_type": "code",
   "execution_count": 12,
   "id": "e6eb3e53",
   "metadata": {},
   "outputs": [],
   "source": [
    "wrriter = SummaryWriter(\"logs\")\n",
    "for i in range(len(data)):\n",
    "    img, label = data[i]\n",
    "    # print(img.shape)\n",
    "    wrriter.add_image(f\"{label}\", img, i, dataformats=\"HWC\")"
   ]
  },
  {
   "cell_type": "markdown",
   "id": "1f4e29c6",
   "metadata": {},
   "source": [
    "# Transforms"
   ]
  },
  {
   "cell_type": "code",
   "execution_count": 41,
   "id": "49f8a297",
   "metadata": {},
   "outputs": [],
   "source": [
    "from torchvision import transforms\n",
    "from PIL import Image"
   ]
  },
  {
   "cell_type": "markdown",
   "id": "2d6d5d3e",
   "metadata": {},
   "source": [
    "Transforms中的常用方法\n",
    "\n",
    "1. ToTensor\n",
    "2. Normalize\n",
    "3. Resize\n",
    "4. Compose"
   ]
  },
  {
   "cell_type": "code",
   "execution_count": 36,
   "id": "15442224",
   "metadata": {},
   "outputs": [],
   "source": [
    "img, label = data[0]\n",
    "tensor_trans = transforms.ToTensor()\n",
    "tensor_img = tensor_trans(img)"
   ]
  },
  {
   "cell_type": "code",
   "execution_count": 34,
   "id": "dc0ae7db",
   "metadata": {},
   "outputs": [],
   "source": [
    "writer = SummaryWriter(\"logs\")\n",
    "writer.add_image(\"tensor_img\", tensor_img, 0)\n",
    "writer.close()"
   ]
  },
  {
   "cell_type": "code",
   "execution_count": 35,
   "id": "72db2ecc",
   "metadata": {},
   "outputs": [],
   "source": [
    "trans_norm = transforms.Normalize([0.5, 0.5, 0.5], [0.5, 0.5, 0.5])\n",
    "\n",
    "img_normal = trans_norm(tensor_img)\n",
    "writer.add_image(\"img_normal\", img_normal, 0)\n",
    "writer.close()"
   ]
  },
  {
   "cell_type": "code",
   "execution_count": 47,
   "id": "2ff39d9b",
   "metadata": {},
   "outputs": [
    {
     "name": "stdout",
     "output_type": "stream",
     "text": [
      "(768, 512)\n",
      "(512, 512)\n"
     ]
    }
   ],
   "source": [
    "img_path = \"./Data/train/ants/0013035.jpg\"\n",
    "img = Image.open(img_path)\n",
    "\n",
    "print(img.size)\n",
    "trans_resize = transforms.Resize([512, 512])\n",
    "img_resize = trans_resize(img)\n",
    "print(img_resize.size)\n",
    "img_resize = transforms.ToTensor()(img_resize)\n",
    "writer.add_image(\"Resize\", img_resize, 0)\n",
    "writer.close()\n"
   ]
  },
  {
   "cell_type": "code",
   "execution_count": 49,
   "id": "75224f01",
   "metadata": {},
   "outputs": [],
   "source": [
    "trans_resize_2 = transforms.Resize(512)\n",
    "trans_compose = transforms.Compose([transforms.ToTensor(),trans_resize_2])\n",
    "img_resize_2 = trans_compose(img)\n",
    "writer.add_image(\"Resize_2\", img_resize_2, 0)\n",
    "writer.close()"
   ]
  },
  {
   "cell_type": "markdown",
   "id": "5d3e27bb",
   "metadata": {},
   "source": [
    "# __call__方法的作用"
   ]
  },
  {
   "cell_type": "code",
   "execution_count": 25,
   "id": "1394fab2",
   "metadata": {},
   "outputs": [
    {
     "name": "stdout",
     "output_type": "stream",
     "text": [
      "My name is shaoyj\n",
      "Hello  world\n"
     ]
    }
   ],
   "source": [
    "class Person(object):\n",
    "    def __call__(self, new_name):\n",
    "        self.name = new_name\n",
    "        print(\"My name is\", self.name)\n",
    "        \n",
    "    \n",
    "    def hello(self, name):\n",
    "        print(\"Hello \", name)\n",
    "        \n",
    "person = Person()\n",
    "person(\"shaoyj\")\n",
    "person.hello(\"world\")"
   ]
  },
  {
   "cell_type": "markdown",
   "id": "99a7c309",
   "metadata": {},
   "source": []
  }
 ],
 "metadata": {
  "kernelspec": {
   "display_name": "ai",
   "language": "python",
   "name": "python3"
  },
  "language_info": {
   "codemirror_mode": {
    "name": "ipython",
    "version": 3
   },
   "file_extension": ".py",
   "mimetype": "text/x-python",
   "name": "python",
   "nbconvert_exporter": "python",
   "pygments_lexer": "ipython3",
   "version": "3.13.5"
  }
 },
 "nbformat": 4,
 "nbformat_minor": 5
}
