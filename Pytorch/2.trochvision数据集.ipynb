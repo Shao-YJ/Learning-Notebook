{
 "cells": [
  {
   "cell_type": "markdown",
   "id": "e2ba1fba",
   "metadata": {},
   "source": [
    "# Torchvision数据集使用"
   ]
  },
  {
   "cell_type": "code",
   "execution_count": 11,
   "id": "488ee5a4",
   "metadata": {},
   "outputs": [],
   "source": [
    "import torchvision\n",
    "from torchvision import transforms"
   ]
  },
  {
   "cell_type": "code",
   "execution_count": 12,
   "id": "b7f3d65c",
   "metadata": {},
   "outputs": [],
   "source": [
    "trans_compose = transforms.Compose([transforms.ToTensor()])\n",
    "\n",
    "\n",
    "train_set = torchvision.datasets.CIFAR10(\n",
    "    root=\"./Data/cifar10\", transform=trans_compose, train=True)\n",
    "test_set = torchvision.datasets.CIFAR10(\n",
    "    root=\"./Data/cifar10\", transform=trans_compose, train=False)"
   ]
  },
  {
   "cell_type": "code",
   "execution_count": 15,
   "id": "b3713be2",
   "metadata": {},
   "outputs": [
    {
     "name": "stdout",
     "output_type": "stream",
     "text": [
      "['airplane', 'automobile', 'bird', 'cat', 'deer', 'dog', 'frog', 'horse', 'ship', 'truck']\n",
      "6\n",
      "frog\n"
     ]
    }
   ],
   "source": [
    "print(test_set.classes)\n",
    "img, label = train_set[0]\n",
    "# print(img)\n",
    "print(label)\n",
    "print(train_set.classes[label])"
   ]
  },
  {
   "cell_type": "code",
   "execution_count": 19,
   "id": "6fdcfe76",
   "metadata": {},
   "outputs": [],
   "source": [
    "from torch.utils.tensorboard import SummaryWriter\n",
    "\n",
    "writer = SummaryWriter(\"logs\")\n",
    "for i in range(len(train_set)):\n",
    "    img, label = train_set[i]\n",
    "    writer.add_image(train_set.classes[label], img, i)\n",
    "writer.close()"
   ]
  },
  {
   "cell_type": "markdown",
   "id": "94ad71b6",
   "metadata": {},
   "source": [
    "# DataLoader"
   ]
  },
  {
   "cell_type": "code",
   "execution_count": null,
   "id": "e0cd960d",
   "metadata": {},
   "outputs": [],
   "source": [
    "from torch.utils.data import DataLoader\n",
    "\n",
    "test_data = torchvision.datasets.CIFAR10(root=\"./Data/cifar10\", train=False, transform=torchvision.transforms.ToTensor())\n",
    "test_loader = DataLoader(test_data, batch_size=64, shuffle=True, num_workers=0 ,drop_last=True)\n",
    "\n",
    "writer = SummaryWriter(\"dataloader\")\n",
    "# step = 0\n",
    "for epoch in range(2):\n",
    "    step = 0\n",
    "    for data in test_loader:\n",
    "        imgs, labels = data\n",
    "        # print(imgs.shape)\n",
    "        # print(labels)\n",
    "        writer.add_images(f\"Epoch: {epoch}\", imgs, step)\n",
    "        step += 1\n",
    "writer.close()"
   ]
  }
 ],
 "metadata": {
  "kernelspec": {
   "display_name": "ai",
   "language": "python",
   "name": "python3"
  },
  "language_info": {
   "codemirror_mode": {
    "name": "ipython",
    "version": 3
   },
   "file_extension": ".py",
   "mimetype": "text/x-python",
   "name": "python",
   "nbconvert_exporter": "python",
   "pygments_lexer": "ipython3",
   "version": "3.13.5"
  }
 },
 "nbformat": 4,
 "nbformat_minor": 5
}
