{
 "cells": [
  {
   "cell_type": "markdown",
   "id": "7e4b29d6",
   "metadata": {},
   "source": [
    "# Optimizer"
   ]
  },
  {
   "cell_type": "code",
   "execution_count": 1,
   "id": "359b0aea",
   "metadata": {},
   "outputs": [],
   "source": [
    "import torch\n",
    "import torch.nn as nn\n",
    "import torch.functional as F\n",
    "import torchvision\n",
    "from torch.utils.data import DataLoader"
   ]
  },
  {
   "cell_type": "code",
   "execution_count": 2,
   "id": "502d6995",
   "metadata": {},
   "outputs": [],
   "source": [
    "class MyModel(nn.Module):\n",
    "    def __init__(self):\n",
    "        super().__init__()\n",
    "        self.sequent = nn.Sequential(\n",
    "            nn.Conv2d(3, 32, 5, padding=2),\n",
    "            nn.MaxPool2d(2),\n",
    "            nn.Conv2d(32, 32, 5, padding=2),\n",
    "            nn.MaxPool2d(2),\n",
    "            nn.Conv2d(32, 64, 5, padding=2),\n",
    "            nn.MaxPool2d(2),\n",
    "            nn.Flatten(),\n",
    "            nn.Linear(1024, 64),\n",
    "            nn.Linear(64, 10)\n",
    "        )\n",
    "        \n",
    "    def forward(self, x):\n",
    "        return self.sequent(x)"
   ]
  },
  {
   "cell_type": "code",
   "execution_count": 5,
   "id": "1b75d60c",
   "metadata": {},
   "outputs": [],
   "source": [
    "test_set = torchvision.datasets.CIFAR10(\"./Data/cifar10\", train=False, transform=torchvision.transforms.ToTensor())\n",
    "test_data = DataLoader(test_set, batch_size=64, shuffle=False)"
   ]
  },
  {
   "cell_type": "code",
   "execution_count": 7,
   "id": "cd493492",
   "metadata": {},
   "outputs": [
    {
     "name": "stdout",
     "output_type": "stream",
     "text": [
      "0: 360.7861633300781\n",
      "1: 356.8919982910156\n",
      "2: 339.1986083984375\n",
      "3: 318.5180969238281\n",
      "4: 309.2652587890625\n",
      "5: 299.3860168457031\n",
      "6: 291.5948791503906\n",
      "7: 284.33831787109375\n",
      "8: 277.1319580078125\n",
      "9: 270.45648193359375\n",
      "10: 264.53314208984375\n",
      "11: 259.2845764160156\n",
      "12: 254.53024291992188\n",
      "13: 250.1951141357422\n",
      "14: 246.2078857421875\n",
      "15: 242.47109985351562\n",
      "16: 238.88571166992188\n",
      "17: 235.4251251220703\n",
      "18: 232.0946502685547\n",
      "19: 228.8778839111328\n"
     ]
    }
   ],
   "source": [
    "myLoss = nn.CrossEntropyLoss()\n",
    "model = MyModel()\n",
    "optim = torch.optim.SGD(model.parameters(), lr=0.01)\n",
    "for epoch in range(20):\n",
    "    running_loss = 0\n",
    "    for data, target in test_data:\n",
    "        optim.zero_grad()\n",
    "        output = model(data)\n",
    "        loss = myLoss(output, target)\n",
    "        loss.backward()\n",
    "        optim.step()\n",
    "        running_loss += loss\n",
    "    print(f\"{epoch}: {running_loss}\")"
   ]
  }
 ],
 "metadata": {
  "kernelspec": {
   "display_name": "ai",
   "language": "python",
   "name": "python3"
  },
  "language_info": {
   "codemirror_mode": {
    "name": "ipython",
    "version": 3
   },
   "file_extension": ".py",
   "mimetype": "text/x-python",
   "name": "python",
   "nbconvert_exporter": "python",
   "pygments_lexer": "ipython3",
   "version": "3.13.5"
  }
 },
 "nbformat": 4,
 "nbformat_minor": 5
}
