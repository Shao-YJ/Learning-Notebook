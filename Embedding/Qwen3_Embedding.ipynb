{
 "cells": [
  {
   "cell_type": "code",
   "execution_count": 2,
   "id": "1886f23e",
   "metadata": {},
   "outputs": [],
   "source": [
    "import os\n",
    "import openai\n",
    "import requests\n",
    "\n",
    "import torch\n",
    "import torch.nn as nn\n",
    "import torch.functional as F"
   ]
  },
  {
   "cell_type": "code",
   "execution_count": 1,
   "id": "57d1ed1f",
   "metadata": {},
   "outputs": [],
   "source": [
    "OPENAI_BASE_URL = \"https://dd-ai-api.eastmoney.com/v1\"\n",
    "OPENAI_API_KEY = \"sk-acUzWFHVvFTIaINs4fF7Bc2b30F24b45AdC97dAa6aAe8cEa\""
   ]
  },
  {
   "cell_type": "code",
   "execution_count": 8,
   "id": "0b7c6c7e",
   "metadata": {},
   "outputs": [
    {
     "name": "stdout",
     "output_type": "stream",
     "text": [
      "gpt-4\n",
      "gpt-4o\n",
      "gpt-4o-mini\n",
      "text-embedding-ada-002\n",
      "text-embedding-3-small\n",
      "text-embedding-3-large\n",
      "dall-e-3\n",
      "o1\n",
      "o1-mini\n",
      "Phi-4-multimodal-instruct\n",
      "claude-3-5-haiku-20241022\n",
      "claude-3-opus-20240229\n",
      "claude-3-5-sonnet-20240620\n",
      "claude-3-5-sonnet-20241022\n",
      "qwen-turbo-latest\n",
      "qwen-plus\n",
      "qwen-plus-latest\n",
      "qwen-max\n",
      "qwen-max-latest\n",
      "qwen-vl-max\n",
      "qwen-vl-max-latest\n",
      "qwen-vl-plus\n",
      "qwen-vl-plus-latest\n",
      "hunyuan-vision\n",
      "claude-sonnet-4-20250514\n",
      "claude-opus-4-20250514\n",
      "claude-3-7-sonnet-20250219\n",
      "claude-3-5-sonnet-20241022\n",
      "claude-3-5-haiku-20241022\n",
      "claude-3-5-sonnet-20240620\n",
      "claude-3-opus-20240229\n",
      "DeepSeek-V3\n",
      "DeepSeek-R1\n",
      "volc-tts-char\n",
      "volc-voice-clone-char\n",
      "paraformer-zh-streaming\n",
      "moonshot-v1-8k\n",
      "moonshot-v1-32k\n",
      "moonshot-v1-128k\n",
      "Doubao-pro-32k\n",
      "Doubao-lite-128k\n",
      "Doubao-lite-4k\n",
      "Doubao-embedding\n",
      "deepseek-chat\n",
      "Private-Qwen3-4B\n",
      "qwen3-vl-235b-a22b-thinking\n",
      "Doubao-1-5-lite-32k\n",
      "GLM3-130B-Fin\n",
      "qwen3-coder-plus-2025-07-22\n",
      "Private-Qwen25-Omni-7B\n",
      "Private-Qwen3-Embedding-4B\n",
      "hunyuan-functioncall \n",
      "qwen-long\n",
      "Doubao-1-5-pro-256k\n",
      "GLM-4-5\n",
      "hunyuan-t1-latest\n",
      "kimi-k2-0711-preview\n",
      "Private-Qwen3-Coder-30B-A3B-Instruct\n",
      "benchmark-model\n",
      "gpt-5-nano\n",
      "qwq-32b\n",
      "Private-bge-reranker-v2-m3\n",
      "Qwen3-Reranker-0.6B\n",
      "Qwen3-Reranker-8B\n",
      "gpt-5\n",
      "DeepSeek-V3-1\n",
      "Doubao-1-5-vision-pro-32k\n",
      "Doubao-1.5-vision-pro\n",
      "qvq-72b-preview\n",
      "qwen3-next-80b-a3b-thinking\n",
      "Private-Qwen2.5-VL-32B-Instruct\n",
      "Private-bge-m3\n",
      "gpt-5-chat\n",
      "o3\n",
      "GLM-4-1V-9B-Thinking\n",
      "GLM-4.6\n",
      "Qwen3-VL-235B-A22B-Instruct\n",
      "hunyuan-turbos-latest\n",
      "Kimi-K2-Instruct-0905\n",
      "Private-Qwen2-Audio-7B-Instruct\n",
      "qwq-plus-latest\n",
      "qwen3-next-80b-a3b-instruct\n",
      "Private-Qwen3-32B\n",
      "gemini-2.0-flash-001\n",
      "qwen3-coder-plus\n",
      "qwen3-max\n",
      "Doubao-1.5-thinking-pro\n",
      "Doubao-vision-pro-32k\n",
      "hunyuan-large\n",
      "qwen3-coder-480b-a35b-instruct\n",
      "DeepSeek-V3.1\n",
      "gpt-4-5-preview\n",
      "qwen-plus-2025-07-14\n",
      "Doubao-1.5-thinking-vision-pro\n",
      "MX-DeepSeek-R1\n",
      "Qwen3-Omni-30B-A3B-Thinking\n",
      "qwen-flash\n",
      "doubao-seed-1-6-flash-250615\n",
      "qwen3-coder-flash\n",
      "Private-Deepseek-R1-TTFund\n",
      "Qwen3-VL-30B-A3B-Thinking\n",
      "SF-DeepSeek-V3-1\n",
      "Doubao-vision-lite-32k\n",
      "GLM-4-5-Air\n",
      "gpt-4o-2\n",
      "kimi-k2-turbo-preview\n",
      "text-embedding-v4\n",
      "Doubao-Seedream-3.0-t2i\n",
      "GLM-4-5V\n",
      "Private-Qwen3-30B-A3B\n",
      "Private-Qwen2.5-VL-72B-Instruct\n",
      "Private-Qwen3-30B-A3B-Instruct-2507\n",
      "kimi-k2-0905-preview\n",
      "qwen3-235b-a22b-thinking-2507\n",
      "Doubao-Seed-1.6-vision\n",
      "Private-Deepseek-R1\n",
      "hunyuan-turbos-20250604\n",
      "qwen3-omni-flash\n",
      "Doubao-1-5-pro-32k\n",
      "gpt-4-1-mini\n",
      "grok-3\n",
      "hunyuan-turbo-latest\n",
      "Private-Qwen3-30B-A3B-Instruct-2507-H20\n",
      "gpt-5-mini\n",
      "qwen3-vl-plus\n",
      "gpt-35-turbo\n",
      "gpt-4-1\n",
      "o3-mini\n",
      "qwen3-omni-flash-realtime\n",
      "Private-Qwen3-235B-A22B\n",
      "Qwen3-Omni-30B-A3B-Instruct\n",
      "Qwen3-Reranker-4B\n",
      "qwen3-235b-a22b-instruct-2507\n",
      "DeepSeek-V3-2-Exp\n",
      "Private-bge-large-zh-v1.5\n",
      "o4-mini\n",
      "qwen-omni-turbo\n",
      "deepseek-reasoner\n",
      "qwen3-30b-a3b-instruct-2507\n",
      "Private-Deepseek-V3\n",
      "DeepSeek-V3-FC\n",
      "Doubao-1.5-UI-TARS\n",
      "doubao-seed-1-6-flash-250715\n",
      "qwen3-235b-a22b\n",
      "qwen-omni-turbo-latest\n",
      "Doubao-Seed-1.6\n",
      "Doubao-Seed-1.6-thinking\n",
      "Seed-OSS-36B-Instruct\n",
      "doubao-seed-1-6-thinking-250715\n",
      "DeepSeek-R1-250528\n",
      "Private-QwQ-32B\n",
      "gemini-2.5-pro\n",
      "GLM3-130B\n",
      "MX-DeepSeek-V3\n",
      "Private-Qwen3-Embedding-0.6B\n",
      "Qwen3-VL-30B-A3B-Instruct\n",
      "gemini-2.5-flash\n",
      "hunyuan-turbo-vision\n"
     ]
    }
   ],
   "source": [
    "model_url = os.path.join(OPENAI_BASE_URL, \"v1/models\")\n",
    "headers = {\n",
    "    \"Authorization\": f\"Bearer {OPENAI_API_KEY}\"\n",
    "}\n",
    "response = requests.get(model_url, headers=headers)\n",
    "if response.status_code == 200:\n",
    "    models = response.json()[\"data\"]\n",
    "    for model in models:\n",
    "        print(model[\"id\"])\n",
    "else:\n",
    "    print(response.status_code, response.text)"
   ]
  },
  {
   "cell_type": "code",
   "execution_count": 3,
   "id": "3ba3420e",
   "metadata": {},
   "outputs": [],
   "source": [
    "client = openai.OpenAI(api_key=OPENAI_API_KEY, base_url=OPENAI_BASE_URL)\n",
    "# client = openai.OpenAI()\n",
    "\n",
    "def sentence_Vector(input:str, client):\n",
    "    response = client.embeddings.create(\n",
    "        model = \"Private-Qwen3-Embedding-4B\",\n",
    "        input = input\n",
    "    )\n",
    "    return torch.Tensor(response.data[0].embedding)"
   ]
  },
  {
   "cell_type": "code",
   "execution_count": 4,
   "id": "c302e31e",
   "metadata": {},
   "outputs": [],
   "source": [
    "# query = []\n",
    "query1 = \"我从堡垒机系统登录不了我的虚拟机，我该怎么办\"\n",
    "query2 = \"我登录不了我的虚拟机，我该怎么办\""
   ]
  },
  {
   "cell_type": "code",
   "execution_count": 5,
   "id": "67115ac5",
   "metadata": {},
   "outputs": [],
   "source": [
    "embedding1 = sentence_Vector(query1, client)\n",
    "embedding2 = sentence_Vector(query2, client)\n",
    "embedding3 = sentence_Vector(\"堡垒机\", client)"
   ]
  },
  {
   "cell_type": "code",
   "execution_count": 6,
   "id": "0ae99b8e",
   "metadata": {},
   "outputs": [
    {
     "data": {
      "text/plain": [
       "tensor([-0.0002, -0.0116, -0.0430,  ...,  0.0090,  0.0131,  0.0059])"
      ]
     },
     "execution_count": 6,
     "metadata": {},
     "output_type": "execute_result"
    }
   ],
   "source": [
    "embedding1"
   ]
  },
  {
   "cell_type": "code",
   "execution_count": 53,
   "id": "b39b03af",
   "metadata": {},
   "outputs": [
    {
     "data": {
      "text/plain": [
       "tensor([-8.3494e-05,  8.9818e-03, -4.4341e-02,  ...,  1.0801e-02,\n",
       "         1.2847e-02,  5.7416e-03])"
      ]
     },
     "execution_count": 53,
     "metadata": {},
     "output_type": "execute_result"
    }
   ],
   "source": [
    "embedding2"
   ]
  },
  {
   "cell_type": "code",
   "execution_count": 90,
   "id": "72725e09",
   "metadata": {},
   "outputs": [
    {
     "data": {
      "text/plain": [
       "tensor(0.9241)"
      ]
     },
     "execution_count": 90,
     "metadata": {},
     "output_type": "execute_result"
    }
   ],
   "source": [
    "similarity = torch.cosine_similarity(embedding1, embedding2, dim=0)\n",
    "similarity"
   ]
  }
 ],
 "metadata": {
  "kernelspec": {
   "display_name": "ai",
   "language": "python",
   "name": "python3"
  },
  "language_info": {
   "codemirror_mode": {
    "name": "ipython",
    "version": 3
   },
   "file_extension": ".py",
   "mimetype": "text/x-python",
   "name": "python",
   "nbconvert_exporter": "python",
   "pygments_lexer": "ipython3",
   "version": "3.13.5"
  }
 },
 "nbformat": 4,
 "nbformat_minor": 5
}
