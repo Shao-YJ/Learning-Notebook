{
 "cells": [
  {
   "cell_type": "code",
   "execution_count": 9,
   "id": "d05b18be",
   "metadata": {},
   "outputs": [],
   "source": [
    "from dotenv import load_dotenv\n",
    "import os\n",
    "\n",
    "load_dotenv()\n",
    "\n",
    "api_key = os.getenv(\"OPENAI_API_KEY\")\n",
    "base_url = os.getenv(\"OPENAI_API_BASE\")\n",
    "\n"
   ]
  },
  {
   "cell_type": "code",
   "execution_count": 10,
   "id": "2fd5af18",
   "metadata": {},
   "outputs": [
    {
     "name": "stdout",
     "output_type": "stream",
     "text": [
      "OpenAI API Key: sk-acUzWFHVvFTIaINs4fF7Bc2b30F24b45AdC97dAa6aAe8cEa\n",
      "OpenAI API Base URL: https://dd-ai-api.eastmoney.com/v1\n"
     ]
    }
   ],
   "source": [
    "print(\"OpenAI API Key:\", api_key)\n",
    "print(\"OpenAI API Base URL:\", base_url)"
   ]
  },
  {
   "cell_type": "code",
   "execution_count": 11,
   "id": "e5d2e396",
   "metadata": {},
   "outputs": [],
   "source": [
    "from langchain_openai import ChatOpenAI\n",
    "\n",
    "llm = ChatOpenAI(\n",
    "    model=\"Private-Qwen3-235B-A22B\",  # 或其他 DeepSeek 模型名称\n",
    "    openai_api_key=api_key,\n",
    "    openai_api_base=base_url)  # DeepSeek 的 API 地址)\n",
    "\n"
   ]
  },
  {
   "cell_type": "code",
   "execution_count": 12,
   "id": "45ba690c",
   "metadata": {},
   "outputs": [],
   "source": [
    "from langchain_core.prompts import ChatPromptTemplate\n",
    "\n",
    "prompt = ChatPromptTemplate.from_messages([\n",
    "    ('system', '你是世界级的专家'),\n",
    "    (\"user\", \"{input}\")\n",
    "])"
   ]
  },
  {
   "cell_type": "code",
   "execution_count": 13,
   "id": "aa09e712",
   "metadata": {},
   "outputs": [],
   "source": [
    "from langchain_core.output_parsers import StrOutputParser\n",
    "output_parser = StrOutputParser()"
   ]
  },
  {
   "cell_type": "code",
   "execution_count": null,
   "id": "13dae2ec",
   "metadata": {},
   "outputs": [],
   "source": [
    "# response = prompt | llm | output_parser\n"
   ]
  },
  {
   "cell_type": "code",
   "execution_count": 16,
   "id": "a60bff2a",
   "metadata": {},
   "outputs": [],
   "source": [
    "result = llm.invoke(\"给我一份初学者学习langchain框架的建议，大概两三百个字\")"
   ]
  },
  {
   "cell_type": "code",
   "execution_count": 15,
   "id": "72fe0156",
   "metadata": {},
   "outputs": [
    {
     "name": "stdout",
     "output_type": "stream",
     "text": [
      "\n",
      "\n",
      "对于初学者，建议从LangChain的核心设计思想入手，重点理解其「链式调用」和「模块化」特性。首先通过官方文档（https://js.langchain.com）掌握基础概念：学习如何用Chain串联LLM、Prompt和Output Parser，熟悉Document Loader、Text Splitter等数据处理组件。建议使用Jupyter Notebook边学边练，从官方示例库（LangChain Playground）中选取文本生成、问答系统等简单案例实践。\n",
      "\n",
      "实践时优先掌握三个核心模块：1）LLMChain的构建与调参 2）PromptTemplate的动态变量注入 3）RetrievalQA实现文档检索增强。可尝试搭建本地知识库问答系统，结合Faiss向量数据库体验真实应用场景。遇到问题时，建议查看LangChain官方Discord社区和GitHub Issues，中文开发者可关注Bilibili教程和掘金技术博客。\n",
      "\n",
      "进阶学习应关注Memory模块（如ConversationBufferMemory）和Agent机制（如AutoGPT实现），同时熟悉与第三方工具（Pinecone、Supabase等）的集成。建议每周完成一个小型项目（如聊天机器人、文章摘要器），通过GitHub持续更新作品集。注意LangChain版本迭代较快，需定期查看官方更新日志掌握最新特性。\n"
     ]
    }
   ],
   "source": [
    "print(result.content)"
   ]
  }
 ],
 "metadata": {
  "kernelspec": {
   "display_name": "lang",
   "language": "python",
   "name": "python3"
  },
  "language_info": {
   "codemirror_mode": {
    "name": "ipython",
    "version": 3
   },
   "file_extension": ".py",
   "mimetype": "text/x-python",
   "name": "python",
   "nbconvert_exporter": "python",
   "pygments_lexer": "ipython3",
   "version": "3.9.23"
  }
 },
 "nbformat": 4,
 "nbformat_minor": 5
}
