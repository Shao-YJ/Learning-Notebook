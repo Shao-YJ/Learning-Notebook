{
 "cells": [
  {
   "cell_type": "markdown",
   "id": "af7290c0cb2ada50",
   "metadata": {},
   "source": [
    "Langchain快速入门"
   ]
  },
  {
   "cell_type": "code",
   "execution_count": 2,
   "id": "initial_id",
   "metadata": {
    "ExecuteTime": {
     "end_time": "2025-07-21T13:34:11.837741Z",
     "start_time": "2025-07-21T13:34:09.961754Z"
    },
    "collapsed": true
   },
   "outputs": [],
   "source": [
    "from langchain_core.prompts import ChatPromptTemplate\n",
    "from langchain_openai import ChatOpenAI\n",
    "from dotenv import load_dotenv\n",
    "import os\n",
    "\n",
    "load_dotenv()\n",
    "\n",
    "api_key = os.getenv(\"OPENAI_API_KEY\")\n",
    "base_url = os.getenv(\"OPENAI_API_BASE\")\n"
   ]
  },
  {
   "cell_type": "code",
   "execution_count": 3,
   "id": "6d98ea41",
   "metadata": {},
   "outputs": [
    {
     "name": "stdout",
     "output_type": "stream",
     "text": [
      "sk-acUzWFHVvFTIaINs4fF7Bc2b30F24b45AdC97dAa6aAe8cEa\n",
      "https://dd-ai-api.eastmoney.com/v1\n"
     ]
    }
   ],
   "source": [
    "print(api_key)\n",
    "print(base_url)"
   ]
  },
  {
   "cell_type": "code",
   "execution_count": 13,
   "id": "61153da4e89651b4",
   "metadata": {
    "ExecuteTime": {
     "end_time": "2025-07-21T13:34:26.660849Z",
     "start_time": "2025-07-21T13:34:26.192513Z"
    }
   },
   "outputs": [],
   "source": [
    "# 配置deepseek模型\n",
    "llm = ChatOpenAI(\n",
    "    model=\"deepseek-r1\",  # 或其他 DeepSeek 模型名称\n",
    "    openai_api_key=api_key,\n",
    "    openai_api_base=base_url,  # DeepSeek 的 API 地址\n",
    "    # temperature=0.7\n",
    ")"
   ]
  },
  {
   "cell_type": "code",
   "execution_count": 5,
   "id": "4a5c29e590c6b9a7",
   "metadata": {
    "ExecuteTime": {
     "end_time": "2025-07-21T13:34:28.662476Z",
     "start_time": "2025-07-21T13:34:28.651507Z"
    }
   },
   "outputs": [],
   "source": [
    "prompt = ChatPromptTemplate.from_messages([\n",
    "    ('system', '你是世界级的专家'),\n",
    "    (\"user\", \"{input}\")\n",
    "])"
   ]
  },
  {
   "cell_type": "code",
   "execution_count": 7,
   "id": "9d25ef23a9555694",
   "metadata": {
    "ExecuteTime": {
     "end_time": "2025-07-21T13:34:30.520429Z",
     "start_time": "2025-07-21T13:34:30.507435Z"
    }
   },
   "outputs": [],
   "source": [
    "from langchain_core.output_parsers import StrOutputParser\n",
    "output_parser = StrOutputParser()"
   ]
  },
  {
   "cell_type": "code",
   "execution_count": 14,
   "id": "fd42c23e32fbc058",
   "metadata": {
    "ExecuteTime": {
     "end_time": "2025-07-21T13:34:32.894559Z",
     "start_time": "2025-07-21T13:34:32.876014Z"
    }
   },
   "outputs": [],
   "source": [
    "chain = prompt | llm | output_parser"
   ]
  },
  {
   "cell_type": "code",
   "execution_count": 15,
   "id": "52729c61d1c091a8",
   "metadata": {
    "ExecuteTime": {
     "end_time": "2025-07-21T13:34:55.021539Z",
     "start_time": "2025-07-21T13:34:33.913766Z"
    }
   },
   "outputs": [],
   "source": [
    "result = chain.invoke({'input':\"给我一份初学者学习langchain框架的建议，大概两三百个字\"})"
   ]
  },
  {
   "cell_type": "code",
   "execution_count": 11,
   "id": "c845ca39",
   "metadata": {},
   "outputs": [],
   "source": [
    "result1 = llm.invoke(\"给我一份初学者学习langchain框架的建议，大概两三百个字\")"
   ]
  },
  {
   "cell_type": "code",
   "execution_count": 12,
   "id": "9d51c98585e34475",
   "metadata": {
    "ExecuteTime": {
     "end_time": "2025-07-21T13:34:56.851426Z",
     "start_time": "2025-07-21T13:34:56.833241Z"
    }
   },
   "outputs": [
    {
     "name": "stdout",
     "output_type": "stream",
     "text": [
      "\n",
      "\n",
      "学习LangChain建议从核心概念入手，逐步构建实战能力。作为初学者，先理解其三大核心：**提示工程**（Prompt Engineering）、**链式调用**（Chaining）和**模型集成**（Model Integration）。官方文档（https://js.langchain.com）是首选资料，配合《LangChain for LLM Application Development》课程（免费）建立系统认知。\n",
      "\n",
      "实践路径建议分三步走：  \n",
      "1️⃣ **基础搭建**：用HuggingFace或OpenAI API跑通第一个问答链（ RetrievalQA），熟悉DocumentLoader、TextSplitter等数据处理模块。  \n",
      "2️⃣ **场景实战**：尝试构建聊天机器人/智能Agent，重点掌握Memory模块（如ConversationBufferMemory）和Chain组合逻辑（LLMChain + Database Chain）。  \n",
      "3️⃣ **进阶优化**：学习自定义Chain（Custom Chain）和Callback处理器，通过LangSmith进行链路调试，用LangServe部署服务。\n",
      "\n",
      "推荐搭配学习栈：Python基础→LLM基础概念→Prompt Engineering指南→LangChain Cookbook示例。每周完成1个GitHub示例复现（如PDF解析器），参与Discord社区讨论解决报错问题。注意关注v0.1+版本的模块化重构，避免陷入历史API陷阱。保持代码与文档同步迭代，逐步构建工程化思维。\n"
     ]
    }
   ],
   "source": [
    "print(result)"
   ]
  },
  {
   "cell_type": "code",
   "execution_count": 11,
   "id": "836ddd6c",
   "metadata": {},
   "outputs": [
    {
     "ename": "NameError",
     "evalue": "name 'result1' is not defined",
     "output_type": "error",
     "traceback": [
      "\u001b[31m---------------------------------------------------------------------------\u001b[39m",
      "\u001b[31mNameError\u001b[39m                                 Traceback (most recent call last)",
      "\u001b[36mCell\u001b[39m\u001b[36m \u001b[39m\u001b[32mIn[11]\u001b[39m\u001b[32m, line 1\u001b[39m\n\u001b[32m----> \u001b[39m\u001b[32m1\u001b[39m \u001b[38;5;28mprint\u001b[39m(\u001b[43mresult1\u001b[49m.mete)\n",
      "\u001b[31mNameError\u001b[39m: name 'result1' is not defined"
     ]
    }
   ],
   "source": [
    "print(result1.mete)"
   ]
  },
  {
   "cell_type": "markdown",
   "id": "bf2aa1f1d17312d1",
   "metadata": {},
   "source": [
    "提示词工程实践"
   ]
  },
  {
   "cell_type": "markdown",
   "id": "7a9df191999d100a",
   "metadata": {},
   "source": [
    "创建提示词模板 prompt template"
   ]
  },
  {
   "cell_type": "code",
   "execution_count": 14,
   "id": "6467d4ef39f277f5",
   "metadata": {
    "ExecuteTime": {
     "end_time": "2025-05-27T13:17:50.692286Z",
     "start_time": "2025-05-27T13:17:50.680301Z"
    }
   },
   "outputs": [
    {
     "name": "stdout",
     "output_type": "stream",
     "text": [
      "给我讲一个关于猴子的冷名字\n"
     ]
    }
   ],
   "source": [
    "from langchain.prompts import PromptTemplate\n",
    "\n",
    "prompt_template = PromptTemplate.from_template(\"给我讲一个关于{content}的{adjective}{syj}\")\n",
    "\n",
    "res = prompt_template.format(adjective = '冷', content = '猴子', syj = '名字')\n",
    "print(res)"
   ]
  },
  {
   "cell_type": "markdown",
   "id": "d2f36b94e5c96f5a",
   "metadata": {},
   "source": [
    "聊天消息提示词模板 chat prompt template"
   ]
  },
  {
   "cell_type": "code",
   "execution_count": 15,
   "id": "e37653fb09ff17ec",
   "metadata": {
    "ExecuteTime": {
     "end_time": "2025-05-27T13:30:56.326336Z",
     "start_time": "2025-05-27T13:30:56.307387Z"
    }
   },
   "outputs": [
    {
     "name": "stdout",
     "output_type": "stream",
     "text": [
      "[SystemMessage(content='你是一位人工智能住手，你的名字是三叶', additional_kwargs={}, response_metadata={}), HumanMessage(content='你好', additional_kwargs={}, response_metadata={}), AIMessage(content='我很好，谢谢！', additional_kwargs={}, response_metadata={}), HumanMessage(content='你叫什么名字？', additional_kwargs={}, response_metadata={})]\n"
     ]
    }
   ],
   "source": [
    "from langchain.prompts import ChatPromptTemplate\n",
    "\n",
    "chat_template = ChatPromptTemplate.from_messages([\n",
    "    ('system','你是一位人工智能住手，你的名字是{name}'),\n",
    "    ('human','你好'),\n",
    "    ('ai', '我很好，谢谢！'),\n",
    "    ('human', '{user_input}')\n",
    "])\n",
    "\n",
    "message = chat_template.format_messages(name = '三叶', user_input = '你叫什么名字？')\n",
    "print(message)"
   ]
  },
  {
   "cell_type": "code",
   "execution_count": 16,
   "id": "cbce6a8e23ed4893",
   "metadata": {
    "ExecuteTime": {
     "end_time": "2025-05-27T13:30:30.139020Z",
     "start_time": "2025-05-27T13:30:30.123063Z"
    }
   },
   "outputs": [
    {
     "name": "stdout",
     "output_type": "stream",
     "text": [
      "[SystemMessage(content='你是一个乐于助人的住手，可以润色内容，使其看起来更简单易懂。', additional_kwargs={}, response_metadata={}), HumanMessage(content='我不喜欢吃好吃的东西', additional_kwargs={}, response_metadata={})]\n"
     ]
    }
   ],
   "source": [
    "from langchain.prompts import HumanMessagePromptTemplate\n",
    "from langchain_core.messages import SystemMessage\n",
    "from langchain_core.prompts import ChatPromptTemplate\n",
    "\n",
    "chat_template = ChatPromptTemplate.from_messages([\n",
    "    SystemMessage(\n",
    "        content = (\n",
    "            '你是一个乐于助人的住手，可以润色内容，使其看起来更简单易懂。'\n",
    "        )\n",
    "    ),\n",
    "    HumanMessagePromptTemplate.from_template(\"{text}\")\n",
    "])\n",
    "\n",
    "message = chat_template.format_messages(text = '我不喜欢吃好吃的东西')\n",
    "print(message)"
   ]
  },
  {
   "cell_type": "markdown",
   "id": "27575eea12c799b9",
   "metadata": {},
   "source": [
    "MessagesPlaceholder \\\n",
    "在特定位置增加消息列表"
   ]
  },
  {
   "cell_type": "code",
   "execution_count": 18,
   "id": "d6e5da35426ec1c2",
   "metadata": {
    "ExecuteTime": {
     "end_time": "2025-05-27T13:46:05.344903Z",
     "start_time": "2025-05-27T13:46:05.324829Z"
    }
   },
   "outputs": [
    {
     "data": {
      "text/plain": [
       "ChatPromptTemplate(input_variables=['msgs'], input_types={'msgs': list[typing.Annotated[typing.Union[typing.Annotated[langchain_core.messages.ai.AIMessage, Tag(tag='ai')], typing.Annotated[langchain_core.messages.human.HumanMessage, Tag(tag='human')], typing.Annotated[langchain_core.messages.chat.ChatMessage, Tag(tag='chat')], typing.Annotated[langchain_core.messages.system.SystemMessage, Tag(tag='system')], typing.Annotated[langchain_core.messages.function.FunctionMessage, Tag(tag='function')], typing.Annotated[langchain_core.messages.tool.ToolMessage, Tag(tag='tool')], typing.Annotated[langchain_core.messages.ai.AIMessageChunk, Tag(tag='AIMessageChunk')], typing.Annotated[langchain_core.messages.human.HumanMessageChunk, Tag(tag='HumanMessageChunk')], typing.Annotated[langchain_core.messages.chat.ChatMessageChunk, Tag(tag='ChatMessageChunk')], typing.Annotated[langchain_core.messages.system.SystemMessageChunk, Tag(tag='SystemMessageChunk')], typing.Annotated[langchain_core.messages.function.FunctionMessageChunk, Tag(tag='FunctionMessageChunk')], typing.Annotated[langchain_core.messages.tool.ToolMessageChunk, Tag(tag='ToolMessageChunk')]], FieldInfo(annotation=NoneType, required=True, discriminator=Discriminator(discriminator=<function _get_type at 0x79e45ffaf920>, custom_error_type=None, custom_error_message=None, custom_error_context=None))]]}, partial_variables={}, messages=[SystemMessagePromptTemplate(prompt=PromptTemplate(input_variables=[], input_types={}, partial_variables={}, template='You are a helpful assistant'), additional_kwargs={}), MessagesPlaceholder(variable_name='msgs')])"
      ]
     },
     "execution_count": 18,
     "metadata": {},
     "output_type": "execute_result"
    }
   ],
   "source": [
    "from langchain_core.prompts import ChatPromptTemplate, MessagesPlaceholder\n",
    "from langchain_core.messages import HumanMessage\n",
    "\n",
    "prompt_template = ChatPromptTemplate.from_messages([\n",
    "    ('system', \"You are a helpful assistant\"),\n",
    "    MessagesPlaceholder('msgs')\n",
    "])\n",
    "prompt_template.invoke({'msgs':[HumanMessage(content='hi')]})\n",
    "\n",
    "prompt_template"
   ]
  },
  {
   "cell_type": "markdown",
   "id": "a94df935f7c31d25",
   "metadata": {},
   "source": [
    "提示词追加示例 Few-shot prompt templates"
   ]
  },
  {
   "cell_type": "markdown",
   "id": "27a179c1b5bcc926",
   "metadata": {},
   "source": [
    "使用示例集"
   ]
  },
  {
   "cell_type": "code",
   "execution_count": 31,
   "id": "704e797d4c801960",
   "metadata": {
    "ExecuteTime": {
     "end_time": "2025-05-27T13:59:32.867995Z",
     "start_time": "2025-05-27T13:59:32.854216Z"
    }
   },
   "outputs": [],
   "source": [
    "# 创建示例集\n",
    "from langchain.prompts import FewShotPromptTemplate\n",
    "from langchain.prompts import PromptTemplate\n",
    "\n",
    "examples = [\n",
    "  {\n",
    "    \"question\": \"谁的寿命更长，穆罕默德·阿里还是艾伦·图灵？\",\n",
    "    \"answer\":\n",
    "\"\"\"\n",
    "这里需要跟进问题吗：是的。\n",
    "跟进：穆罕默德·阿里去世时多大？\n",
    "中间答案：穆罕默德·阿里去世时74岁。\n",
    "跟进：艾伦·图灵去世时多大？\n",
    "中间答案：艾伦·图灵去世时41岁。\n",
    "所以最终答案是：穆罕默德·阿里\n",
    "\"\"\"\n",
    "  },\n",
    "  {\n",
    "    \"question\": \"craigslist的创始人是什么时候出生的？\",\n",
    "    \"answer\":\n",
    "\"\"\"\n",
    "这里需要跟进问题吗：是的。\n",
    "跟进：craigslist的创始人是谁？\n",
    "中间答案：craigslist由Craig Newmark创立。\n",
    "跟进：Craig Newmark是什么时候出生的？\n",
    "中间答案：Craig Newmark于1952年12月6日出生。\n",
    "所以最终答案是：1952年12月6日\n",
    "\"\"\"\n",
    "  },\n",
    "  {\n",
    "    \"question\": \"乔治·华盛顿的祖父母中的母亲是谁？\",\n",
    "    \"answer\":\n",
    "\"\"\"\n",
    "这里需要跟进问题吗：是的。\n",
    "跟进：乔治·华盛顿的母亲是谁？\n",
    "中间答案：乔治·华盛顿的母亲是Mary Ball Washington。\n",
    "跟进：Mary Ball Washington的父亲是谁？\n",
    "中间答案：Mary Ball Washington的父亲是Joseph Ball。\n",
    "所以最终答案是：Joseph Ball\n",
    "\"\"\"\n",
    "  },\n",
    "  {\n",
    "    \"question\": \"《大白鲨》和《皇家赌场》的导演都来自同一个国家吗？\",\n",
    "    \"answer\":\n",
    "\"\"\"\n",
    "这里需要跟进问题吗：是的。\n",
    "跟进：《大白鲨》的导演是谁？\n",
    "中间答案：《大白鲨》的导演是Steven Spielberg。\n",
    "跟进：Steven Spielberg来自哪里？\n",
    "中间答案：美国。\n",
    "跟进：《皇家赌场》的导演是谁？\n",
    "中间答案：《皇家赌场》的导演是Martin Campbell。\n",
    "跟进：Martin Campbell来自哪里？\n",
    "中间答案：新西兰。\n",
    "所以最终答案是：不是\n",
    "\"\"\"\n",
    "  }\n",
    "]"
   ]
  },
  {
   "cell_type": "markdown",
   "id": "7f3c447d724b67a",
   "metadata": {},
   "source": []
  },
  {
   "cell_type": "code",
   "execution_count": 35,
   "id": "cc2c2722134116cd",
   "metadata": {
    "ExecuteTime": {
     "end_time": "2025-05-27T14:05:59.803489Z",
     "start_time": "2025-05-27T14:05:59.799500Z"
    }
   },
   "outputs": [
    {
     "name": "stdout",
     "output_type": "stream",
     "text": [
      "问题：谁的寿命更长，穆罕默德·阿里还是艾伦·图灵？\\n\n",
      "这里需要跟进问题吗：是的。\n",
      "跟进：穆罕默德·阿里去世时多大？\n",
      "中间答案：穆罕默德·阿里去世时74岁。\n",
      "跟进：艾伦·图灵去世时多大？\n",
      "中间答案：艾伦·图灵去世时41岁。\n",
      "所以最终答案是：穆罕默德·阿里\n",
      "\n"
     ]
    }
   ],
   "source": [
    "# 创建小样本示例的格式化对象\n",
    "\n",
    "eaxmple_prompt = PromptTemplate(input_variables = ['question', 'answer'], template = '问题：{question}\\\\n{answer}')\n",
    "\n",
    "print(eaxmple_prompt.format(**examples[0]))"
   ]
  },
  {
   "cell_type": "code",
   "execution_count": 36,
   "id": "cc057d3b652713cb",
   "metadata": {
    "ExecuteTime": {
     "end_time": "2025-05-27T16:01:43.073364Z",
     "start_time": "2025-05-27T16:01:43.059401Z"
    }
   },
   "outputs": [
    {
     "name": "stdout",
     "output_type": "stream",
     "text": [
      "问题：谁的寿命更长，穆罕默德·阿里还是艾伦·图灵？\\n\n",
      "这里需要跟进问题吗：是的。\n",
      "跟进：穆罕默德·阿里去世时多大？\n",
      "中间答案：穆罕默德·阿里去世时74岁。\n",
      "跟进：艾伦·图灵去世时多大？\n",
      "中间答案：艾伦·图灵去世时41岁。\n",
      "所以最终答案是：穆罕默德·阿里\n",
      "\n",
      "\n",
      "问题：craigslist的创始人是什么时候出生的？\\n\n",
      "这里需要跟进问题吗：是的。\n",
      "跟进：craigslist的创始人是谁？\n",
      "中间答案：craigslist由Craig Newmark创立。\n",
      "跟进：Craig Newmark是什么时候出生的？\n",
      "中间答案：Craig Newmark于1952年12月6日出生。\n",
      "所以最终答案是：1952年12月6日\n",
      "\n",
      "\n",
      "问题：乔治·华盛顿的祖父母中的母亲是谁？\\n\n",
      "这里需要跟进问题吗：是的。\n",
      "跟进：乔治·华盛顿的母亲是谁？\n",
      "中间答案：乔治·华盛顿的母亲是Mary Ball Washington。\n",
      "跟进：Mary Ball Washington的父亲是谁？\n",
      "中间答案：Mary Ball Washington的父亲是Joseph Ball。\n",
      "所以最终答案是：Joseph Ball\n",
      "\n",
      "\n",
      "问题：《大白鲨》和《皇家赌场》的导演都来自同一个国家吗？\\n\n",
      "这里需要跟进问题吗：是的。\n",
      "跟进：《大白鲨》的导演是谁？\n",
      "中间答案：《大白鲨》的导演是Steven Spielberg。\n",
      "跟进：Steven Spielberg来自哪里？\n",
      "中间答案：美国。\n",
      "跟进：《皇家赌场》的导演是谁？\n",
      "中间答案：《皇家赌场》的导演是Martin Campbell。\n",
      "跟进：Martin Campbell来自哪里？\n",
      "中间答案：新西兰。\n",
      "所以最终答案是：不是\n",
      "\n",
      "\n",
      "问题：乔治·华盛顿的父亲是谁\n"
     ]
    }
   ],
   "source": [
    "#将示例和格式化程序提供给 FewShotPromptTemplate\n",
    "\n",
    "prompt = FewShotPromptTemplate(\n",
    "    examples = examples,\n",
    "    example_prompt = eaxmple_prompt,\n",
    "    suffix = '问题：{input}',\n",
    "    input_variables = ['input'],\n",
    ")\n",
    "\n",
    "print(prompt.format(input = '乔治·华盛顿的父亲是谁'))"
   ]
  },
  {
   "cell_type": "markdown",
   "id": "2ffaf7275060e4f1",
   "metadata": {},
   "source": [
    "使用示例选择器\\\n",
    "这里重用前一部分中的示例集和提示词模板(prompt template)。但是，不会将示例直接提供给FewShotPromptTemplate对象，把全部示例插入到提示词中，而是将它们提供给一个ExampleSelector对象，插入部分示例。"
   ]
  },
  {
   "cell_type": "code",
   "execution_count": null,
   "id": "1e8c6d7281171f81",
   "metadata": {},
   "outputs": [],
   "source": [
    "from huggingface_hub import snapshot_download\n",
    "\n",
    "snapshot_download(repo_id=\"sentence-transformers/all-MiniLM-L6-v2\")"
   ]
  },
  {
   "cell_type": "code",
   "execution_count": 47,
   "id": "3d64a6cd6a6c0925",
   "metadata": {
    "ExecuteTime": {
     "end_time": "2025-05-27T16:38:24.242689Z",
     "start_time": "2025-05-27T16:38:18.116893Z"
    }
   },
   "outputs": [
    {
     "name": "stdout",
     "output_type": "stream",
     "text": [
      "{'乔治·华盛顿的父亲是谁？'}\n",
      "\n",
      "\n",
      "answer: \n",
      "这里需要跟进问题吗：是的。\n",
      "跟进：乔治·华盛顿的母亲是谁？\n",
      "中间答案：乔治·华盛顿的母亲是Mary Ball Washington。\n",
      "跟进：Mary Ball Washington的父亲是谁？\n",
      "中间答案：Mary Ball Washington的父亲是Joseph Ball。\n",
      "所以最终答案是：Joseph Ball\n",
      "\n",
      "question: 乔治·华盛顿的祖父母中的母亲是谁？\n"
     ]
    }
   ],
   "source": [
    "# 将示例提供给ExampleSelector\n",
    "from langchain.prompts import SemanticSimilarityExampleSelector\n",
    "from langchain_community.vectorstores import Chroma\n",
    "from langchain_openai import OpenAIEmbeddings\n",
    "from langchain_huggingface import HuggingFaceEmbeddings\n",
    "\n",
    "model_name = \"sentence-transformers/all-MiniLM-L6-v2\"\n",
    "embeddings = HuggingFaceEmbeddings(model_name=model_name)\n",
    "\n",
    "\n",
    "examples_selector = SemanticSimilarityExampleSelector.from_examples(\n",
    "    # 这是可供选择的示例列表。\n",
    "    examples,\n",
    "    # 这是用于生成嵌入的嵌入类，该嵌入用于衡量语义相似性。\n",
    "    embeddings,\n",
    "    # 这是用于存储嵌入和执行相似性搜索的VectorStore类。\n",
    "    Chroma,\n",
    "    # 这是要生成的示例数。\n",
    "    k=1\n",
    ")\n",
    "\n",
    "question = '乔治·华盛顿的父亲是谁？'\n",
    "selected_examples = examples_selector.select_examples({'question':question})\n",
    "print({question})\n",
    "for example in selected_examples:\n",
    "    print('\\n')\n",
    "    for k, v in example.items():\n",
    "        print(f'{k}: {v}')"
   ]
  }
 ],
 "metadata": {
  "kernelspec": {
   "display_name": "ai",
   "language": "python",
   "name": "python3"
  },
  "language_info": {
   "codemirror_mode": {
    "name": "ipython",
    "version": 3
   },
   "file_extension": ".py",
   "mimetype": "text/x-python",
   "name": "python",
   "nbconvert_exporter": "python",
   "pygments_lexer": "ipython3",
   "version": "3.13.5"
  }
 },
 "nbformat": 4,
 "nbformat_minor": 5
}
